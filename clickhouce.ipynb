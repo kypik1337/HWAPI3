{
 "cells": [
  {
   "cell_type": "code",
   "execution_count": 10,
   "id": "initial_id",
   "metadata": {
    "collapsed": true,
    "ExecuteTime": {
     "end_time": "2024-03-11T18:13:49.226068Z",
     "start_time": "2024-03-11T18:13:46.788267Z"
    }
   },
   "outputs": [
    {
     "name": "stdout",
     "output_type": "stream",
     "text": [
      "Requirement already satisfied: docker in /Users/artem/anaconda3/lib/python3.11/site-packages (7.0.0)\r\n",
      "Requirement already satisfied: packaging>=14.0 in /Users/artem/anaconda3/lib/python3.11/site-packages (from docker) (23.1)\r\n",
      "Requirement already satisfied: requests>=2.26.0 in /Users/artem/anaconda3/lib/python3.11/site-packages (from docker) (2.31.0)\r\n",
      "Requirement already satisfied: urllib3>=1.26.0 in /Users/artem/anaconda3/lib/python3.11/site-packages (from docker) (1.26.16)\r\n",
      "Requirement already satisfied: charset-normalizer<4,>=2 in /Users/artem/anaconda3/lib/python3.11/site-packages (from requests>=2.26.0->docker) (2.0.4)\r\n",
      "Requirement already satisfied: idna<4,>=2.5 in /Users/artem/anaconda3/lib/python3.11/site-packages (from requests>=2.26.0->docker) (3.4)\r\n",
      "Requirement already satisfied: certifi>=2017.4.17 in /Users/artem/anaconda3/lib/python3.11/site-packages (from requests>=2.26.0->docker) (2024.2.2)\r\n"
     ]
    }
   ],
   "source": [
    "!pip install docker"
   ]
  },
  {
   "cell_type": "code",
   "outputs": [
    {
     "name": "stdout",
     "output_type": "stream",
     "text": [
      "Requirement already satisfied: clickhouse_driver in /Users/artem/anaconda3/lib/python3.11/site-packages (0.2.7)\r\n",
      "Requirement already satisfied: pytz in /Users/artem/anaconda3/lib/python3.11/site-packages (from clickhouse_driver) (2023.3.post1)\r\n",
      "Requirement already satisfied: tzlocal in /Users/artem/anaconda3/lib/python3.11/site-packages (from clickhouse_driver) (5.2)\r\n"
     ]
    }
   ],
   "source": [
    "!pip install clickhouse_driver"
   ],
   "metadata": {
    "collapsed": false,
    "ExecuteTime": {
     "end_time": "2024-03-11T18:13:51.095351Z",
     "start_time": "2024-03-11T18:13:49.228309Z"
    }
   },
   "id": "69000607a16c404c",
   "execution_count": 11
  },
  {
   "cell_type": "code",
   "outputs": [
    {
     "name": "stdout",
     "output_type": "stream",
     "text": [
      "docker: Error response from daemon: Conflict. The container name \"/clickhouse-server-homeWorck\" is already in use by container \"43607d5524c7e2b00063e2e5c7153d71efbeb2eaf6fb33652f7c7e61d3de92a3\". You have to remove (or rename) that container to be able to reuse that name.\r\n",
      "See 'docker run --help'.\r\n"
     ]
    }
   ],
   "source": [
    "!docker run -d --name clickhouse-server-homeWorck --ulimit nofile=262144:262144 -p 9000:9000 yandex/clickhouse-server"
   ],
   "metadata": {
    "collapsed": false,
    "ExecuteTime": {
     "end_time": "2024-03-11T18:13:51.364255Z",
     "start_time": "2024-03-11T18:13:51.096613Z"
    }
   },
   "id": "6a78a739642d460d",
   "execution_count": 12
  },
  {
   "cell_type": "code",
   "outputs": [],
   "source": [
    "import pandas as pd"
   ],
   "metadata": {
    "collapsed": false,
    "ExecuteTime": {
     "end_time": "2024-03-11T18:13:51.369459Z",
     "start_time": "2024-03-11T18:13:51.366061Z"
    }
   },
   "id": "2d0de09910cb1ca9",
   "execution_count": 13
  },
  {
   "cell_type": "code",
   "outputs": [
    {
     "name": "stdout",
     "output_type": "stream",
     "text": [
      "[('trips',), ('trips228',)]\n"
     ]
    }
   ],
   "source": [
    "from clickhouse_driver import Client\n",
    "client = Client(host='localhost',  # Use 'localhost' or '127.0.0.1' for a local server\n",
    "                user='default',    # Default user, adjust if you've changed the user\n",
    "                password='',       # Default installation has no password for 'default' user\n",
    "                port=9000)         # Default TCP port for ClickHouse\n",
    "\n",
    "# Attempt to execute a query\n",
    "try:\n",
    "    result = client.execute('SHOW TABLES')\n",
    "    print(result)\n",
    "except Exception as e:\n",
    "    print(f\"Encountered an error: {e}\")"
   ],
   "metadata": {
    "collapsed": false,
    "ExecuteTime": {
     "end_time": "2024-03-11T18:17:08.955391Z",
     "start_time": "2024-03-11T18:17:08.837318Z"
    }
   },
   "id": "c4f66503abc1ba2c",
   "execution_count": 17
  },
  {
   "cell_type": "code",
   "outputs": [
    {
     "data": {
      "text/plain": "[]"
     },
     "execution_count": 29,
     "metadata": {},
     "output_type": "execute_result"
    }
   ],
   "source": [
    "client.execute('CREATE DATABASE IF NOT EXISTS books')"
   ],
   "metadata": {
    "collapsed": false,
    "ExecuteTime": {
     "end_time": "2024-03-11T18:26:17.219417Z",
     "start_time": "2024-03-11T18:26:17.199236Z"
    }
   },
   "id": "c6c08c5d50825684",
   "execution_count": 29
  },
  {
   "cell_type": "code",
   "outputs": [],
   "source": [
    "import json"
   ],
   "metadata": {
    "collapsed": false,
    "ExecuteTime": {
     "end_time": "2024-03-11T18:26:20.797155Z",
     "start_time": "2024-03-11T18:26:20.794256Z"
    }
   },
   "id": "78bb0880ffbf38f",
   "execution_count": 30
  },
  {
   "cell_type": "code",
   "outputs": [
    {
     "ename": "TypeError",
     "evalue": "string indices must be integers, not 'str'",
     "output_type": "error",
     "traceback": [
      "\u001B[0;31m---------------------------------------------------------------------------\u001B[0m",
      "\u001B[0;31mTypeError\u001B[0m                                 Traceback (most recent call last)",
      "Cell \u001B[0;32mIn[39], line 7\u001B[0m\n\u001B[1;32m      4\u001B[0m \u001B[38;5;28;01mfor\u001B[39;00m feature \u001B[38;5;129;01min\u001B[39;00m data:\n\u001B[1;32m      5\u001B[0m     properties \u001B[38;5;241m=\u001B[39m feature[\u001B[38;5;124m'\u001B[39m\u001B[38;5;124mname\u001B[39m\u001B[38;5;124m'\u001B[39m]\n\u001B[0;32m----> 7\u001B[0m     crash_id \u001B[38;5;241m=\u001B[39m properties[\u001B[38;5;124m'\u001B[39m\u001B[38;5;124m'\u001B[39m]\n\u001B[1;32m      9\u001B[0m     client\u001B[38;5;241m.\u001B[39mexecute(\u001B[38;5;124m\"\"\"\u001B[39m\n\u001B[1;32m     10\u001B[0m \u001B[38;5;124m    INSERT INTO books.crashes (\u001B[39m\n\u001B[1;32m     11\u001B[0m \u001B[38;5;124m        name, price\u001B[39m\n\u001B[0;32m   (...)\u001B[0m\n\u001B[1;32m     15\u001B[0m       properties[\u001B[38;5;124m'\u001B[39m\u001B[38;5;124mprice\u001B[39m\u001B[38;5;124m'\u001B[39m] \u001B[38;5;129;01mor\u001B[39;00m \u001B[38;5;124m\"\u001B[39m\u001B[38;5;124m\"\u001B[39m,\n\u001B[1;32m     16\u001B[0m     )])\n",
      "\u001B[0;31mTypeError\u001B[0m: string indices must be integers, not 'str'"
     ]
    }
   ],
   "source": [
    "with open('books.json', 'r') as file:\n",
    "    data = json.load(file)\n",
    "\n",
    "for feature in data:\n",
    "    properties = feature['name']\n",
    "    \n",
    "    crash_id = properties['']\n",
    "    \n",
    "    client.execute(\"\"\"\n",
    "    INSERT INTO books.crashes (\n",
    "        name, price\n",
    "    )VALUES\"\"\",\n",
    "    [(\n",
    "      properties['name'] or \"\",\n",
    "      properties['price'] or \"\",\n",
    "    )])\n"
   ],
   "metadata": {
    "collapsed": false,
    "ExecuteTime": {
     "end_time": "2024-03-11T18:38:04.322161Z",
     "start_time": "2024-03-11T18:38:04.285261Z"
    }
   },
   "id": "2b13b8a3441a333",
   "execution_count": 39
  },
  {
   "cell_type": "code",
   "outputs": [
    {
     "ename": "ServerException",
     "evalue": "Code: 60.\nDB::Exception: Table books.crashes doesn't exist. Stack trace:\n\n0. DB::Exception::Exception(std::__1::basic_string<char, std::__1::char_traits<char>, std::__1::allocator<char> > const&, int, bool) @ 0xa82d07a in /usr/bin/clickhouse\n1. DB::Exception::Exception<std::__1::basic_string<char, std::__1::char_traits<char>, std::__1::allocator<char> > >(int, std::__1::basic_string<char, std::__1::char_traits<char>, std::__1::allocator<char> > const&, std::__1::basic_string<char, std::__1::char_traits<char>, std::__1::allocator<char> >&&) @ 0xa89b823 in /usr/bin/clickhouse\n2. void std::__1::__optional_storage_base<DB::Exception, false>::__construct<int const&, char const (&) [23], std::__1::basic_string<char, std::__1::char_traits<char>, std::__1::allocator<char> > >(int const&, char const (&) [23], std::__1::basic_string<char, std::__1::char_traits<char>, std::__1::allocator<char> >&&) @ 0x1352ac0f in /usr/bin/clickhouse\n3. DB::DatabaseCatalog::getTableImpl(DB::StorageID const&, std::__1::shared_ptr<DB::Context const>, std::__1::optional<DB::Exception>*) const @ 0x13519082 in /usr/bin/clickhouse\n4. DB::DatabaseCatalog::getTable(DB::StorageID const&, std::__1::shared_ptr<DB::Context const>) const @ 0x1352126b in /usr/bin/clickhouse\n5. DB::JoinedTables::getLeftTableStorage() @ 0x13ae925c in /usr/bin/clickhouse\n6. DB::InterpreterSelectQuery::InterpreterSelectQuery(std::__1::shared_ptr<DB::IAST> const&, std::__1::shared_ptr<DB::Context const>, std::__1::optional<DB::Pipe>, std::__1::shared_ptr<DB::IStorage> const&, DB::SelectQueryOptions const&, std::__1::vector<std::__1::basic_string<char, std::__1::char_traits<char>, std::__1::allocator<char> >, std::__1::allocator<std::__1::basic_string<char, std::__1::char_traits<char>, std::__1::allocator<char> > > > const&, std::__1::shared_ptr<DB::StorageInMemoryMetadata const> const&, std::__1::unordered_map<DB::PreparedSetKey, std::__1::shared_ptr<DB::Set>, DB::PreparedSetKey::Hash, std::__1::equal_to<DB::PreparedSetKey>, std::__1::allocator<std::__1::pair<DB::PreparedSetKey const, std::__1::shared_ptr<DB::Set> > > >) @ 0x13a661f4 in /usr/bin/clickhouse\n7. DB::InterpreterSelectQuery::InterpreterSelectQuery(std::__1::shared_ptr<DB::IAST> const&, std::__1::shared_ptr<DB::Context const>, DB::SelectQueryOptions const&, std::__1::vector<std::__1::basic_string<char, std::__1::char_traits<char>, std::__1::allocator<char> >, std::__1::allocator<std::__1::basic_string<char, std::__1::char_traits<char>, std::__1::allocator<char> > > > const&) @ 0x13a65594 in /usr/bin/clickhouse\n8. DB::InterpreterSelectWithUnionQuery::buildCurrentChildInterpreter(std::__1::shared_ptr<DB::IAST> const&, std::__1::vector<std::__1::basic_string<char, std::__1::char_traits<char>, std::__1::allocator<char> >, std::__1::allocator<std::__1::basic_string<char, std::__1::char_traits<char>, std::__1::allocator<char> > > > const&) @ 0x13abea62 in /usr/bin/clickhouse\n9. DB::InterpreterSelectWithUnionQuery::InterpreterSelectWithUnionQuery(std::__1::shared_ptr<DB::IAST> const&, std::__1::shared_ptr<DB::Context const>, DB::SelectQueryOptions const&, std::__1::vector<std::__1::basic_string<char, std::__1::char_traits<char>, std::__1::allocator<char> >, std::__1::allocator<std::__1::basic_string<char, std::__1::char_traits<char>, std::__1::allocator<char> > > > const&) @ 0x13abd150 in /usr/bin/clickhouse\n10. DB::InterpreterFactory::get(std::__1::shared_ptr<DB::IAST>&, std::__1::shared_ptr<DB::Context>, DB::SelectQueryOptions const&) @ 0x13a103d6 in /usr/bin/clickhouse\n11. ? @ 0x13d13f8d in /usr/bin/clickhouse\n12. DB::executeQuery(std::__1::basic_string<char, std::__1::char_traits<char>, std::__1::allocator<char> > const&, std::__1::shared_ptr<DB::Context>, bool, DB::QueryProcessingStage::Enum) @ 0x13d11e55 in /usr/bin/clickhouse\n13. DB::TCPHandler::runImpl() @ 0x147f050f in /usr/bin/clickhouse\n14. DB::TCPHandler::run() @ 0x14804259 in /usr/bin/clickhouse\n15. Poco::Net::TCPServerConnection::start() @ 0x1745e52f in /usr/bin/clickhouse\n16. Poco::Net::TCPServerDispatcher::run() @ 0x17460981 in /usr/bin/clickhouse\n17. Poco::PooledThread::run() @ 0x17611609 in /usr/bin/clickhouse\n18. Poco::ThreadImpl::runnableEntry(void*) @ 0x1760ed00 in /usr/bin/clickhouse\n19. ? @ 0x7fffff784609 in ?\n20. __clone @ 0x7fffff6ab293 in ?\n",
     "output_type": "error",
     "traceback": [
      "\u001B[0;31m---------------------------------------------------------------------------\u001B[0m",
      "\u001B[0;31mServerException\u001B[0m                           Traceback (most recent call last)",
      "Cell \u001B[0;32mIn[32], line 1\u001B[0m\n\u001B[0;32m----> 1\u001B[0m result \u001B[38;5;241m=\u001B[39m client\u001B[38;5;241m.\u001B[39mexecute(\u001B[38;5;124m\"\u001B[39m\u001B[38;5;124mSELECT * FROM books.crashes\u001B[39m\u001B[38;5;124m\"\u001B[39m)\n\u001B[1;32m      2\u001B[0m \u001B[38;5;28mprint\u001B[39m(\u001B[38;5;124m\"\u001B[39m\u001B[38;5;124mВставленная запись:\u001B[39m\u001B[38;5;124m\"\u001B[39m, result[\u001B[38;5;241m0\u001B[39m])\n",
      "File \u001B[0;32m~/anaconda3/lib/python3.11/site-packages/clickhouse_driver/client.py:382\u001B[0m, in \u001B[0;36mClient.execute\u001B[0;34m(self, query, params, with_column_types, external_tables, query_id, settings, types_check, columnar)\u001B[0m\n\u001B[1;32m    376\u001B[0m     rv \u001B[38;5;241m=\u001B[39m \u001B[38;5;28mself\u001B[39m\u001B[38;5;241m.\u001B[39mprocess_insert_query(\n\u001B[1;32m    377\u001B[0m         query, params, external_tables\u001B[38;5;241m=\u001B[39mexternal_tables,\n\u001B[1;32m    378\u001B[0m         query_id\u001B[38;5;241m=\u001B[39mquery_id, types_check\u001B[38;5;241m=\u001B[39mtypes_check,\n\u001B[1;32m    379\u001B[0m         columnar\u001B[38;5;241m=\u001B[39mcolumnar\n\u001B[1;32m    380\u001B[0m     )\n\u001B[1;32m    381\u001B[0m \u001B[38;5;28;01melse\u001B[39;00m:\n\u001B[0;32m--> 382\u001B[0m     rv \u001B[38;5;241m=\u001B[39m \u001B[38;5;28mself\u001B[39m\u001B[38;5;241m.\u001B[39mprocess_ordinary_query(\n\u001B[1;32m    383\u001B[0m         query, params\u001B[38;5;241m=\u001B[39mparams, with_column_types\u001B[38;5;241m=\u001B[39mwith_column_types,\n\u001B[1;32m    384\u001B[0m         external_tables\u001B[38;5;241m=\u001B[39mexternal_tables,\n\u001B[1;32m    385\u001B[0m         query_id\u001B[38;5;241m=\u001B[39mquery_id, types_check\u001B[38;5;241m=\u001B[39mtypes_check,\n\u001B[1;32m    386\u001B[0m         columnar\u001B[38;5;241m=\u001B[39mcolumnar\n\u001B[1;32m    387\u001B[0m     )\n\u001B[1;32m    388\u001B[0m \u001B[38;5;28mself\u001B[39m\u001B[38;5;241m.\u001B[39mlast_query\u001B[38;5;241m.\u001B[39mstore_elapsed(time() \u001B[38;5;241m-\u001B[39m start_time)\n\u001B[1;32m    389\u001B[0m \u001B[38;5;28;01mreturn\u001B[39;00m rv\n",
      "File \u001B[0;32m~/anaconda3/lib/python3.11/site-packages/clickhouse_driver/client.py:580\u001B[0m, in \u001B[0;36mClient.process_ordinary_query\u001B[0;34m(self, query, params, with_column_types, external_tables, query_id, types_check, columnar)\u001B[0m\n\u001B[1;32m    577\u001B[0m \u001B[38;5;28mself\u001B[39m\u001B[38;5;241m.\u001B[39mconnection\u001B[38;5;241m.\u001B[39msend_query(query, query_id\u001B[38;5;241m=\u001B[39mquery_id, params\u001B[38;5;241m=\u001B[39mparams)\n\u001B[1;32m    578\u001B[0m \u001B[38;5;28mself\u001B[39m\u001B[38;5;241m.\u001B[39mconnection\u001B[38;5;241m.\u001B[39msend_external_tables(external_tables,\n\u001B[1;32m    579\u001B[0m                                      types_check\u001B[38;5;241m=\u001B[39mtypes_check)\n\u001B[0;32m--> 580\u001B[0m \u001B[38;5;28;01mreturn\u001B[39;00m \u001B[38;5;28mself\u001B[39m\u001B[38;5;241m.\u001B[39mreceive_result(with_column_types\u001B[38;5;241m=\u001B[39mwith_column_types,\n\u001B[1;32m    581\u001B[0m                            columnar\u001B[38;5;241m=\u001B[39mcolumnar)\n",
      "File \u001B[0;32m~/anaconda3/lib/python3.11/site-packages/clickhouse_driver/client.py:213\u001B[0m, in \u001B[0;36mClient.receive_result\u001B[0;34m(self, with_column_types, progress, columnar)\u001B[0m\n\u001B[1;32m    209\u001B[0m \u001B[38;5;28;01melse\u001B[39;00m:\n\u001B[1;32m    210\u001B[0m     result \u001B[38;5;241m=\u001B[39m \u001B[38;5;28mself\u001B[39m\u001B[38;5;241m.\u001B[39mquery_result_cls(\n\u001B[1;32m    211\u001B[0m         gen, with_column_types\u001B[38;5;241m=\u001B[39mwith_column_types, columnar\u001B[38;5;241m=\u001B[39mcolumnar\n\u001B[1;32m    212\u001B[0m     )\n\u001B[0;32m--> 213\u001B[0m     \u001B[38;5;28;01mreturn\u001B[39;00m result\u001B[38;5;241m.\u001B[39mget_result()\n",
      "File \u001B[0;32m~/anaconda3/lib/python3.11/site-packages/clickhouse_driver/result.py:50\u001B[0m, in \u001B[0;36mQueryResult.get_result\u001B[0;34m(self)\u001B[0m\n\u001B[1;32m     45\u001B[0m \u001B[38;5;28;01mdef\u001B[39;00m \u001B[38;5;21mget_result\u001B[39m(\u001B[38;5;28mself\u001B[39m):\n\u001B[1;32m     46\u001B[0m \u001B[38;5;250m    \u001B[39m\u001B[38;5;124;03m\"\"\"\u001B[39;00m\n\u001B[1;32m     47\u001B[0m \u001B[38;5;124;03m    :return: stored query result.\u001B[39;00m\n\u001B[1;32m     48\u001B[0m \u001B[38;5;124;03m    \"\"\"\u001B[39;00m\n\u001B[0;32m---> 50\u001B[0m     \u001B[38;5;28;01mfor\u001B[39;00m packet \u001B[38;5;129;01min\u001B[39;00m \u001B[38;5;28mself\u001B[39m\u001B[38;5;241m.\u001B[39mpacket_generator:\n\u001B[1;32m     51\u001B[0m         \u001B[38;5;28mself\u001B[39m\u001B[38;5;241m.\u001B[39mstore(packet)\n\u001B[1;32m     53\u001B[0m     data \u001B[38;5;241m=\u001B[39m \u001B[38;5;28mself\u001B[39m\u001B[38;5;241m.\u001B[39mdata\n",
      "File \u001B[0;32m~/anaconda3/lib/python3.11/site-packages/clickhouse_driver/client.py:229\u001B[0m, in \u001B[0;36mClient.packet_generator\u001B[0;34m(self)\u001B[0m\n\u001B[1;32m    227\u001B[0m \u001B[38;5;28;01mwhile\u001B[39;00m \u001B[38;5;28;01mTrue\u001B[39;00m:\n\u001B[1;32m    228\u001B[0m     \u001B[38;5;28;01mtry\u001B[39;00m:\n\u001B[0;32m--> 229\u001B[0m         packet \u001B[38;5;241m=\u001B[39m \u001B[38;5;28mself\u001B[39m\u001B[38;5;241m.\u001B[39mreceive_packet()\n\u001B[1;32m    230\u001B[0m         \u001B[38;5;28;01mif\u001B[39;00m \u001B[38;5;129;01mnot\u001B[39;00m packet:\n\u001B[1;32m    231\u001B[0m             \u001B[38;5;28;01mbreak\u001B[39;00m\n",
      "File \u001B[0;32m~/anaconda3/lib/python3.11/site-packages/clickhouse_driver/client.py:246\u001B[0m, in \u001B[0;36mClient.receive_packet\u001B[0;34m(self)\u001B[0m\n\u001B[1;32m    243\u001B[0m packet \u001B[38;5;241m=\u001B[39m \u001B[38;5;28mself\u001B[39m\u001B[38;5;241m.\u001B[39mconnection\u001B[38;5;241m.\u001B[39mreceive_packet()\n\u001B[1;32m    245\u001B[0m \u001B[38;5;28;01mif\u001B[39;00m packet\u001B[38;5;241m.\u001B[39mtype \u001B[38;5;241m==\u001B[39m ServerPacketTypes\u001B[38;5;241m.\u001B[39mEXCEPTION:\n\u001B[0;32m--> 246\u001B[0m     \u001B[38;5;28;01mraise\u001B[39;00m packet\u001B[38;5;241m.\u001B[39mexception\n\u001B[1;32m    248\u001B[0m \u001B[38;5;28;01melif\u001B[39;00m packet\u001B[38;5;241m.\u001B[39mtype \u001B[38;5;241m==\u001B[39m ServerPacketTypes\u001B[38;5;241m.\u001B[39mPROGRESS:\n\u001B[1;32m    249\u001B[0m     \u001B[38;5;28mself\u001B[39m\u001B[38;5;241m.\u001B[39mlast_query\u001B[38;5;241m.\u001B[39mstore_progress(packet\u001B[38;5;241m.\u001B[39mprogress)\n",
      "\u001B[0;31mServerException\u001B[0m: Code: 60.\nDB::Exception: Table books.crashes doesn't exist. Stack trace:\n\n0. DB::Exception::Exception(std::__1::basic_string<char, std::__1::char_traits<char>, std::__1::allocator<char> > const&, int, bool) @ 0xa82d07a in /usr/bin/clickhouse\n1. DB::Exception::Exception<std::__1::basic_string<char, std::__1::char_traits<char>, std::__1::allocator<char> > >(int, std::__1::basic_string<char, std::__1::char_traits<char>, std::__1::allocator<char> > const&, std::__1::basic_string<char, std::__1::char_traits<char>, std::__1::allocator<char> >&&) @ 0xa89b823 in /usr/bin/clickhouse\n2. void std::__1::__optional_storage_base<DB::Exception, false>::__construct<int const&, char const (&) [23], std::__1::basic_string<char, std::__1::char_traits<char>, std::__1::allocator<char> > >(int const&, char const (&) [23], std::__1::basic_string<char, std::__1::char_traits<char>, std::__1::allocator<char> >&&) @ 0x1352ac0f in /usr/bin/clickhouse\n3. DB::DatabaseCatalog::getTableImpl(DB::StorageID const&, std::__1::shared_ptr<DB::Context const>, std::__1::optional<DB::Exception>*) const @ 0x13519082 in /usr/bin/clickhouse\n4. DB::DatabaseCatalog::getTable(DB::StorageID const&, std::__1::shared_ptr<DB::Context const>) const @ 0x1352126b in /usr/bin/clickhouse\n5. DB::JoinedTables::getLeftTableStorage() @ 0x13ae925c in /usr/bin/clickhouse\n6. DB::InterpreterSelectQuery::InterpreterSelectQuery(std::__1::shared_ptr<DB::IAST> const&, std::__1::shared_ptr<DB::Context const>, std::__1::optional<DB::Pipe>, std::__1::shared_ptr<DB::IStorage> const&, DB::SelectQueryOptions const&, std::__1::vector<std::__1::basic_string<char, std::__1::char_traits<char>, std::__1::allocator<char> >, std::__1::allocator<std::__1::basic_string<char, std::__1::char_traits<char>, std::__1::allocator<char> > > > const&, std::__1::shared_ptr<DB::StorageInMemoryMetadata const> const&, std::__1::unordered_map<DB::PreparedSetKey, std::__1::shared_ptr<DB::Set>, DB::PreparedSetKey::Hash, std::__1::equal_to<DB::PreparedSetKey>, std::__1::allocator<std::__1::pair<DB::PreparedSetKey const, std::__1::shared_ptr<DB::Set> > > >) @ 0x13a661f4 in /usr/bin/clickhouse\n7. DB::InterpreterSelectQuery::InterpreterSelectQuery(std::__1::shared_ptr<DB::IAST> const&, std::__1::shared_ptr<DB::Context const>, DB::SelectQueryOptions const&, std::__1::vector<std::__1::basic_string<char, std::__1::char_traits<char>, std::__1::allocator<char> >, std::__1::allocator<std::__1::basic_string<char, std::__1::char_traits<char>, std::__1::allocator<char> > > > const&) @ 0x13a65594 in /usr/bin/clickhouse\n8. DB::InterpreterSelectWithUnionQuery::buildCurrentChildInterpreter(std::__1::shared_ptr<DB::IAST> const&, std::__1::vector<std::__1::basic_string<char, std::__1::char_traits<char>, std::__1::allocator<char> >, std::__1::allocator<std::__1::basic_string<char, std::__1::char_traits<char>, std::__1::allocator<char> > > > const&) @ 0x13abea62 in /usr/bin/clickhouse\n9. DB::InterpreterSelectWithUnionQuery::InterpreterSelectWithUnionQuery(std::__1::shared_ptr<DB::IAST> const&, std::__1::shared_ptr<DB::Context const>, DB::SelectQueryOptions const&, std::__1::vector<std::__1::basic_string<char, std::__1::char_traits<char>, std::__1::allocator<char> >, std::__1::allocator<std::__1::basic_string<char, std::__1::char_traits<char>, std::__1::allocator<char> > > > const&) @ 0x13abd150 in /usr/bin/clickhouse\n10. DB::InterpreterFactory::get(std::__1::shared_ptr<DB::IAST>&, std::__1::shared_ptr<DB::Context>, DB::SelectQueryOptions const&) @ 0x13a103d6 in /usr/bin/clickhouse\n11. ? @ 0x13d13f8d in /usr/bin/clickhouse\n12. DB::executeQuery(std::__1::basic_string<char, std::__1::char_traits<char>, std::__1::allocator<char> > const&, std::__1::shared_ptr<DB::Context>, bool, DB::QueryProcessingStage::Enum) @ 0x13d11e55 in /usr/bin/clickhouse\n13. DB::TCPHandler::runImpl() @ 0x147f050f in /usr/bin/clickhouse\n14. DB::TCPHandler::run() @ 0x14804259 in /usr/bin/clickhouse\n15. Poco::Net::TCPServerConnection::start() @ 0x1745e52f in /usr/bin/clickhouse\n16. Poco::Net::TCPServerDispatcher::run() @ 0x17460981 in /usr/bin/clickhouse\n17. Poco::PooledThread::run() @ 0x17611609 in /usr/bin/clickhouse\n18. Poco::ThreadImpl::runnableEntry(void*) @ 0x1760ed00 in /usr/bin/clickhouse\n19. ? @ 0x7fffff784609 in ?\n20. __clone @ 0x7fffff6ab293 in ?\n"
     ]
    }
   ],
   "source": [
    "result = client.execute(\"SELECT * FROM books.crashes\")\n",
    "print(\"Вставленная запись:\", result[0])"
   ],
   "metadata": {
    "collapsed": false,
    "ExecuteTime": {
     "end_time": "2024-03-11T18:26:38.987881Z",
     "start_time": "2024-03-11T18:26:38.901814Z"
    }
   },
   "id": "25612fcc66976bae",
   "execution_count": 32
  },
  {
   "cell_type": "code",
   "outputs": [],
   "source": [],
   "metadata": {
    "collapsed": false
   },
   "id": "b3a8a25158c70210"
  }
 ],
 "metadata": {
  "kernelspec": {
   "display_name": "Python 3",
   "language": "python",
   "name": "python3"
  },
  "language_info": {
   "codemirror_mode": {
    "name": "ipython",
    "version": 2
   },
   "file_extension": ".py",
   "mimetype": "text/x-python",
   "name": "python",
   "nbconvert_exporter": "python",
   "pygments_lexer": "ipython2",
   "version": "2.7.6"
  }
 },
 "nbformat": 4,
 "nbformat_minor": 5
}
